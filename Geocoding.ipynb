{
 "cells": [
  {
   "cell_type": "markdown",
   "metadata": {},
   "source": [
    "# Import libraries and load dataset"
   ]
  },
  {
   "cell_type": "code",
   "execution_count": 1,
   "metadata": {},
   "outputs": [],
   "source": [
    "import pandas as pd\n",
    "import numpy as np\n",
    "from geopy.geocoders import Nominatim, Bing\n",
    "import requests\n",
    "import re"
   ]
  },
  {
   "cell_type": "code",
   "execution_count": 2,
   "metadata": {},
   "outputs": [],
   "source": [
    "# Import data\n",
    "data_users_00 = pd.read_csv(\"data/KUL_user.csv\", encoding='utf8', sep='\\t')\n",
    "data_users_01 = pd.read_csv(\"data/KUL_user_2.csv\", encoding='utf8', sep='\\t')\n",
    "data_user = pd.concat([data_users_00, data_users_01])"
   ]
  },
  {
   "cell_type": "code",
   "execution_count": 11,
   "metadata": {},
   "outputs": [
    {
     "data": {
      "text/html": [
       "<div>\n",
       "<style scoped>\n",
       "    .dataframe tbody tr th:only-of-type {\n",
       "        vertical-align: middle;\n",
       "    }\n",
       "\n",
       "    .dataframe tbody tr th {\n",
       "        vertical-align: top;\n",
       "    }\n",
       "\n",
       "    .dataframe thead th {\n",
       "        text-align: right;\n",
       "    }\n",
       "</style>\n",
       "<table border=\"1\" class=\"dataframe\">\n",
       "  <thead>\n",
       "    <tr style=\"text-align: right;\">\n",
       "      <th></th>\n",
       "      <th>actor_id</th>\n",
       "      <th>birth_date</th>\n",
       "      <th>sex</th>\n",
       "      <th>street</th>\n",
       "      <th>number</th>\n",
       "      <th>township</th>\n",
       "      <th>zipcode</th>\n",
       "    </tr>\n",
       "  </thead>\n",
       "  <tbody>\n",
       "    <tr>\n",
       "      <th>0</th>\n",
       "      <td>1860714</td>\n",
       "      <td>1973-07-08</td>\n",
       "      <td>V</td>\n",
       "      <td>Lod. van Veltemstraat</td>\n",
       "      <td>63</td>\n",
       "      <td>HERENT</td>\n",
       "      <td>3020</td>\n",
       "    </tr>\n",
       "    <tr>\n",
       "      <th>1</th>\n",
       "      <td>1860725</td>\n",
       "      <td>2006-03-12</td>\n",
       "      <td>V</td>\n",
       "      <td>Bovenstraat</td>\n",
       "      <td>1</td>\n",
       "      <td>LUBBEEK</td>\n",
       "      <td>3210</td>\n",
       "    </tr>\n",
       "    <tr>\n",
       "      <th>2</th>\n",
       "      <td>1860787</td>\n",
       "      <td>1978-12-29</td>\n",
       "      <td>M</td>\n",
       "      <td>Langeveld</td>\n",
       "      <td>152</td>\n",
       "      <td>HOLSBEEK</td>\n",
       "      <td>3220</td>\n",
       "    </tr>\n",
       "    <tr>\n",
       "      <th>3</th>\n",
       "      <td>1860855</td>\n",
       "      <td>2005-11-25</td>\n",
       "      <td>V</td>\n",
       "      <td>Dagobertstraat</td>\n",
       "      <td>57</td>\n",
       "      <td>LEUVEN</td>\n",
       "      <td>3000</td>\n",
       "    </tr>\n",
       "    <tr>\n",
       "      <th>4</th>\n",
       "      <td>1860910</td>\n",
       "      <td>1965-02-21</td>\n",
       "      <td>V</td>\n",
       "      <td>Raadhuislaan</td>\n",
       "      <td>9 /0003</td>\n",
       "      <td>LEUVEN</td>\n",
       "      <td>3010</td>\n",
       "    </tr>\n",
       "    <tr>\n",
       "      <th>...</th>\n",
       "      <td>...</td>\n",
       "      <td>...</td>\n",
       "      <td>...</td>\n",
       "      <td>...</td>\n",
       "      <td>...</td>\n",
       "      <td>...</td>\n",
       "      <td>...</td>\n",
       "    </tr>\n",
       "    <tr>\n",
       "      <th>22963</th>\n",
       "      <td>2899393</td>\n",
       "      <td>1990-01-01</td>\n",
       "      <td>M</td>\n",
       "      <td>Maria - Theresiastraat</td>\n",
       "      <td>74</td>\n",
       "      <td>LEUVEN</td>\n",
       "      <td>3000</td>\n",
       "    </tr>\n",
       "    <tr>\n",
       "      <th>22964</th>\n",
       "      <td>2639142</td>\n",
       "      <td>1990-01-01</td>\n",
       "      <td>M</td>\n",
       "      <td>MariaTheresiastraat</td>\n",
       "      <td>74</td>\n",
       "      <td>LEUVEN</td>\n",
       "      <td>3000</td>\n",
       "    </tr>\n",
       "    <tr>\n",
       "      <th>22965</th>\n",
       "      <td>2909874</td>\n",
       "      <td>1990-01-01</td>\n",
       "      <td>M</td>\n",
       "      <td>Maria - Theresiastraat</td>\n",
       "      <td>74</td>\n",
       "      <td>LEUVEN</td>\n",
       "      <td>3000</td>\n",
       "    </tr>\n",
       "    <tr>\n",
       "      <th>22966</th>\n",
       "      <td>2910739</td>\n",
       "      <td>1990-01-01</td>\n",
       "      <td>M</td>\n",
       "      <td>Maria - Theresiastraat</td>\n",
       "      <td>74</td>\n",
       "      <td>LEUVEN</td>\n",
       "      <td>3000</td>\n",
       "    </tr>\n",
       "    <tr>\n",
       "      <th>22967</th>\n",
       "      <td>2913910</td>\n",
       "      <td>1990-01-01</td>\n",
       "      <td>M</td>\n",
       "      <td>Maria - Theresiastraat</td>\n",
       "      <td>74</td>\n",
       "      <td>LEUVEN</td>\n",
       "      <td>3000</td>\n",
       "    </tr>\n",
       "  </tbody>\n",
       "</table>\n",
       "<p>22968 rows × 7 columns</p>\n",
       "</div>"
      ],
      "text/plain": [
       "       actor_id  birth_date sex                  street   number  township  \\\n",
       "0       1860714  1973-07-08   V   Lod. van Veltemstraat       63    HERENT   \n",
       "1       1860725  2006-03-12   V             Bovenstraat        1   LUBBEEK   \n",
       "2       1860787  1978-12-29   M               Langeveld      152  HOLSBEEK   \n",
       "3       1860855  2005-11-25   V          Dagobertstraat       57    LEUVEN   \n",
       "4       1860910  1965-02-21   V            Raadhuislaan  9 /0003    LEUVEN   \n",
       "...         ...         ...  ..                     ...      ...       ...   \n",
       "22963   2899393  1990-01-01   M  Maria - Theresiastraat       74    LEUVEN   \n",
       "22964   2639142  1990-01-01   M     MariaTheresiastraat       74    LEUVEN   \n",
       "22965   2909874  1990-01-01   M  Maria - Theresiastraat       74    LEUVEN   \n",
       "22966   2910739  1990-01-01   M  Maria - Theresiastraat       74    LEUVEN   \n",
       "22967   2913910  1990-01-01   M  Maria - Theresiastraat       74    LEUVEN   \n",
       "\n",
       "      zipcode  \n",
       "0        3020  \n",
       "1        3210  \n",
       "2        3220  \n",
       "3        3000  \n",
       "4        3010  \n",
       "...       ...  \n",
       "22963    3000  \n",
       "22964    3000  \n",
       "22965    3000  \n",
       "22966    3000  \n",
       "22967    3000  \n",
       "\n",
       "[22968 rows x 7 columns]"
      ]
     },
     "execution_count": 11,
     "metadata": {},
     "output_type": "execute_result"
    }
   ],
   "source": [
    "data_users_00"
   ]
  },
  {
   "cell_type": "code",
   "execution_count": 3,
   "metadata": {},
   "outputs": [],
   "source": [
    "# Create new columns \n",
    "data_user['street_township'] = data_user['street'] + \", \" + data_user['township'].str.capitalize()\n",
    "data_user['township_c'] = data_user['township'].str.capitalize()"
   ]
  },
  {
   "cell_type": "code",
   "execution_count": 4,
   "metadata": {},
   "outputs": [
    {
     "name": "stderr",
     "output_type": "stream",
     "text": [
      "<ipython-input-4-bb3a6a8b1c2f>:5: SettingWithCopyWarning: \n",
      "A value is trying to be set on a copy of a slice from a DataFrame.\n",
      "Try using .loc[row_indexer,col_indexer] = value instead\n",
      "\n",
      "See the caveats in the documentation: https://pandas.pydata.org/pandas-docs/stable/user_guide/indexing.html#returning-a-view-versus-a-copy\n",
      "  data_user_clean['number_new'] = data_user_clean['number'].str.split(\"/\").str[0]\n",
      "<ipython-input-4-bb3a6a8b1c2f>:8: SettingWithCopyWarning: \n",
      "A value is trying to be set on a copy of a slice from a DataFrame.\n",
      "Try using .loc[row_indexer,col_indexer] = value instead\n",
      "\n",
      "See the caveats in the documentation: https://pandas.pydata.org/pandas-docs/stable/user_guide/indexing.html#returning-a-view-versus-a-copy\n",
      "  data_user_clean['street_number'] = data_user_clean['street'] + \" \" + data_user_clean['number_new']\n"
     ]
    }
   ],
   "source": [
    "# Remove duplicates\n",
    "data_user_clean = data_user.drop_duplicates()\n",
    "\n",
    "# Extract the house number\n",
    "data_user_clean['number_new'] = data_user_clean['number'].str.split(\"/\").str[0]\n",
    "\n",
    "# Concatenate de Street and house number\n",
    "data_user_clean['street_number'] = data_user_clean['street'] + \" \" + data_user_clean['number_new']  \n"
   ]
  },
  {
   "cell_type": "code",
   "execution_count": 5,
   "metadata": {},
   "outputs": [
    {
     "name": "stderr",
     "output_type": "stream",
     "text": [
      "<ipython-input-5-f7a5940eeb32>:6: SettingWithCopyWarning: \n",
      "A value is trying to be set on a copy of a slice from a DataFrame\n",
      "\n",
      "See the caveats in the documentation: https://pandas.pydata.org/pandas-docs/stable/user_guide/indexing.html#returning-a-view-versus-a-copy\n",
      "  readers_by_street_num.drop_duplicates(inplace = True)\n",
      "<ipython-input-5-f7a5940eeb32>:10: SettingWithCopyWarning: \n",
      "A value is trying to be set on a copy of a slice from a DataFrame.\n",
      "Try using .loc[row_indexer,col_indexer] = value instead\n",
      "\n",
      "See the caveats in the documentation: https://pandas.pydata.org/pandas-docs/stable/user_guide/indexing.html#returning-a-view-versus-a-copy\n",
      "  street_township_v2['address'] = street_township_v2['street'] + \" \" + street_township_v2['number_new'] +  \", \" + street_township_v2['township_c']\n",
      "<ipython-input-5-f7a5940eeb32>:16: SettingWithCopyWarning: \n",
      "A value is trying to be set on a copy of a slice from a DataFrame\n",
      "\n",
      "See the caveats in the documentation: https://pandas.pydata.org/pandas-docs/stable/user_guide/indexing.html#returning-a-view-versus-a-copy\n",
      "  street_township_v2.drop_duplicates(inplace= True)\n"
     ]
    }
   ],
   "source": [
    "# Filter by readers that live in Leuven\n",
    "street_township_v2 = data_user_clean[data_user_clean['zipcode'].isin(['3000', '3001','3010','3012','3018','3050'])]\n",
    " \n",
    "# Amount of readers by street and house number\n",
    "readers_by_street_num = street_township_v2[['street_number', 'actor_id']]\n",
    "readers_by_street_num.drop_duplicates(inplace = True)\n",
    "readers_by_street_num = readers_by_street_num.groupby('street_number')['actor_id'].nunique().reset_index(name='q_reader')\n",
    "\n",
    "# Full address\n",
    "street_township_v2['address'] = street_township_v2['street'] + \" \" + street_township_v2['number_new'] +  \", \" + street_township_v2['township_c'] \n",
    "\n",
    "# Select columns\n",
    "street_township_v2 = street_township_v2[['street','number','street_number', 'township_c', 'zipcode']]\n",
    "\n",
    "# Remove duplicates\n",
    "street_township_v2.drop_duplicates(inplace= True)\n"
   ]
  },
  {
   "cell_type": "code",
   "execution_count": 6,
   "metadata": {},
   "outputs": [],
   "source": [
    "# Create a list\n",
    "street_township_v2_list = [(x, y) for x, y  in zip(street_township_v2['street_number'], \n",
    "                              street_township_v2['township_c'])] \n",
    " "
   ]
  },
  {
   "cell_type": "code",
   "execution_count": 7,
   "metadata": {},
   "outputs": [],
   "source": [
    "# Slice list\n",
    "street_township_v2_list_1 = street_township_v2_list[0:1000]\n",
    "street_township_v2_list_2 = street_township_v2_list[1000:2000]\n",
    "street_township_v2_list_3 = street_township_v2_list[2000:4000]\n",
    "street_township_v2_list_4 = street_township_v2_list[4000:6000]\n",
    "street_township_v2_list_5 = street_township_v2_list[6000:8000]\n",
    "street_township_v2_list_6 = street_township_v2_list[8000:10000]\n",
    "street_township_v2_list_7 = street_township_v2_list[10000:12000]\n",
    "street_township_v2_list_8 = street_township_v2_list[12000:]\n",
    " "
   ]
  },
  {
   "cell_type": "code",
   "execution_count": 8,
   "metadata": {},
   "outputs": [],
   "source": [
    "# Not Leuven\n",
    "street_township_v2_no_l = data_user_clean[~data_user_clean['zipcode'].isin(['3000', '3001','3010','3012','3018','3050'])]\n",
    " \n",
    "# Select columns \n",
    "street_township_v2_no_l = street_township_v2_no_l[[ 'street_number', 'township' ]]\n",
    "street_township_v2_no_l.drop_duplicates(inplace= True)\n"
   ]
  },
  {
   "cell_type": "code",
   "execution_count": 9,
   "metadata": {},
   "outputs": [],
   "source": [
    "# Create a list\n",
    "street_township_v2_no_leu_list = [(x, y) for x, y  in zip(street_township_v2_no_l['street_number'], \n",
    "                              street_township_v2_no_l['township'])] "
   ]
  },
  {
   "cell_type": "code",
   "execution_count": 10,
   "metadata": {},
   "outputs": [],
   "source": [
    "# Slice list\n",
    "street_township_v2_no_leu_list_1 = street_township_v2_no_leu_list[0:2000]\n",
    "street_township_v2_no_leu_list_2 = street_township_v2_no_leu_list[2000:4000]\n",
    "street_township_v2_no_leu_list_3 = street_township_v2_no_leu_list[4000:6000]\n",
    "street_township_v2_no_leu_list_4 = street_township_v2_no_leu_list[6000:8000]\n",
    "street_township_v2_no_leu_list_5 = street_township_v2_no_leu_list[8000:10000]\n",
    " \n",
    " "
   ]
  },
  {
   "cell_type": "code",
   "execution_count": null,
   "metadata": {},
   "outputs": [],
   "source": [
    "geolocator = Bing(api_key='#')\n",
    "\n",
    "results = []\n",
    "# Loop over the addresses\n",
    "for address in street_township_v2_no_leu_list_2:\n",
    "    # Construct the full address string\n",
    "    full_address = f\"{address[0]}, Belgium\"\n",
    "    \n",
    "    # Use the geolocator to get the latitude and longitude coordinates\n",
    "    location = geolocator.geocode(full_address,   timeout=10)\n",
    "    \n",
    "    # Check whether the location was found\n",
    "    if location is not None:\n",
    "      # Get the zip code from the location address\n",
    "      #  zip_code = location.raw.get('address', {}).get('postcode')\n",
    "        \n",
    "\n",
    "        # Get the latitude and longitude\n",
    "        lat, lon = location.latitude, location.longitude\n",
    "    else:\n",
    "        # Set the latitude and longitude to None\n",
    "        lat, lon = None, None\n",
    "        \n",
    "    # Append the result to the list\n",
    "    results.append((address[0], lat, lon))\n",
    " "
   ]
  },
  {
   "cell_type": "code",
   "execution_count": null,
   "metadata": {},
   "outputs": [],
   "source": [
    "# Convert the results to a Pandas DataFrame and print it\n",
    "address_lat_lon = pd.DataFrame(results, columns=[\"Street\",   \"Latitude\", \"Longitude\"])\n",
    " \n",
    " "
   ]
  },
  {
   "cell_type": "code",
   "execution_count": null,
   "metadata": {},
   "outputs": [],
   "source": [
    "#address_lat_lon.to_csv(\"/content/gdrive/MyDrive/data_thesis/address_no_leuven_lat_lon_2.csv\")"
   ]
  },
  {
   "cell_type": "code",
   "execution_count": null,
   "metadata": {},
   "outputs": [],
   "source": [
    "#address_lat_lon.to_csv(\"/content/gdrive/MyDrive/data_thesis/address_leuven_lat_lon_8.csv\")"
   ]
  },
  {
   "cell_type": "code",
   "execution_count": null,
   "metadata": {},
   "outputs": [],
   "source": []
  },
  {
   "cell_type": "code",
   "execution_count": null,
   "metadata": {},
   "outputs": [],
   "source": []
  },
  {
   "cell_type": "code",
   "execution_count": null,
   "metadata": {},
   "outputs": [],
   "source": []
  },
  {
   "cell_type": "code",
   "execution_count": null,
   "metadata": {},
   "outputs": [],
   "source": []
  },
  {
   "cell_type": "code",
   "execution_count": null,
   "metadata": {},
   "outputs": [],
   "source": []
  },
  {
   "cell_type": "code",
   "execution_count": null,
   "metadata": {},
   "outputs": [],
   "source": []
  },
  {
   "cell_type": "code",
   "execution_count": null,
   "metadata": {},
   "outputs": [],
   "source": []
  },
  {
   "cell_type": "code",
   "execution_count": null,
   "metadata": {},
   "outputs": [],
   "source": []
  },
  {
   "cell_type": "code",
   "execution_count": null,
   "metadata": {},
   "outputs": [],
   "source": []
  },
  {
   "cell_type": "code",
   "execution_count": null,
   "metadata": {},
   "outputs": [],
   "source": []
  },
  {
   "cell_type": "code",
   "execution_count": null,
   "metadata": {},
   "outputs": [],
   "source": []
  },
  {
   "cell_type": "code",
   "execution_count": null,
   "metadata": {},
   "outputs": [],
   "source": []
  }
 ],
 "metadata": {
  "kernelspec": {
   "display_name": "Python 3",
   "language": "python",
   "name": "python3"
  },
  "language_info": {
   "codemirror_mode": {
    "name": "ipython",
    "version": 3
   },
   "file_extension": ".py",
   "mimetype": "text/x-python",
   "name": "python",
   "nbconvert_exporter": "python",
   "pygments_lexer": "ipython3",
   "version": "3.8.3"
  }
 },
 "nbformat": 4,
 "nbformat_minor": 4
}
